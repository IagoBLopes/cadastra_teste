{
 "cells": [
  {
   "cell_type": "markdown",
   "metadata": {},
   "source": [
    "#### Carregando bibliotecas necessárias"
   ]
  },
  {
   "cell_type": "code",
   "execution_count": 1,
   "metadata": {},
   "outputs": [],
   "source": [
    "import pandas as pd \n",
    "import numpy as np\n",
    "import requests\n",
    "from dotenv import load_dotenv\n",
    "import os\n",
    "import json\n",
    "from datetime import datetime, timedelta\n",
    "from google.cloud import bigquery\n",
    "import pandas_gbq"
   ]
  },
  {
   "cell_type": "markdown",
   "metadata": {},
   "source": [
    "#### Carregando variaveis de ambiente"
   ]
  },
  {
   "cell_type": "code",
   "execution_count": 2,
   "metadata": {},
   "outputs": [
    {
     "data": {
      "text/plain": [
       "True"
      ]
     },
     "execution_count": 2,
     "metadata": {},
     "output_type": "execute_result"
    }
   ],
   "source": [
    "load_dotenv()"
   ]
  },
  {
   "cell_type": "markdown",
   "metadata": {},
   "source": [
    "#### utilizando as váriaveis de ambiente"
   ]
  },
  {
   "cell_type": "code",
   "execution_count": 3,
   "metadata": {},
   "outputs": [],
   "source": [
    "api_key = os.getenv(\"COINCAP_API_KEY\")\n",
    "google_credentials_path = os.getenv(\"GOOGLE_APPLICATION_CREDENTIALS\")"
   ]
  },
  {
   "cell_type": "markdown",
   "metadata": {},
   "source": [
    "#### Realizando a primeira requisição e carregando pra camada bronze do projeto"
   ]
  },
  {
   "cell_type": "code",
   "execution_count": 4,
   "metadata": {},
   "outputs": [],
   "source": [
    "def extract_dados(api_key, endpoint):\n",
    "    headers = {\n",
    "        \"Content-Type\": \"application/json\",\n",
    "        \"Authorization\": f\"Bearer {api_key}\"\n",
    "    }\n",
    "    url = f\"https://api.coincap.io/v2/{endpoint}\"\n",
    "    try: \n",
    "        response = requests.get(url, headers=headers)\n",
    "        response.raise_for_status()\n",
    "        dados = response.json().get(\"data\", [])\n",
    "        return dados \n",
    "    except requests.exceptions.RequestsDependencyWarning as e: \n",
    "        print(f\"Erro ao acessos {endpoint}: {e}\")\n",
    "        return []"
   ]
  },
  {
   "cell_type": "markdown",
   "metadata": {},
   "source": [
    "#### Criando o dataframe assets"
   ]
  },
  {
   "cell_type": "code",
   "execution_count": 5,
   "metadata": {},
   "outputs": [],
   "source": [
    "if __name__ == \"__main__\":\n",
    "    dados_assets = extract_dados(api_key, \"assets\") #Se precisar fazer requisição em outro endpoint, só trocar o \"assets\"\n",
    "    bronze_assets = pd.DataFrame(dados_assets)\n",
    "    bronze_assets[\"extract_date\"] = pd.Timestamp.now()"
   ]
  },
  {
   "cell_type": "markdown",
   "metadata": {},
   "source": [
    "### Criando o dataframe markets"
   ]
  },
  {
   "cell_type": "code",
   "execution_count": 6,
   "metadata": {},
   "outputs": [],
   "source": [
    "if __name__ == \"__main__\":\n",
    "    dados_markets = extract_dados(api_key, \"markets\")\n",
    "    bronze_markets = pd.DataFrame(dados_markets)\n",
    "    bronze_markets[\"extract_date\"] = pd.Timestamp.now()"
   ]
  },
  {
   "cell_type": "markdown",
   "metadata": {},
   "source": [
    "#### Checando os dataframes"
   ]
  },
  {
   "cell_type": "code",
   "execution_count": 7,
   "metadata": {},
   "outputs": [
    {
     "data": {
      "text/html": [
       "<div>\n",
       "<style scoped>\n",
       "    .dataframe tbody tr th:only-of-type {\n",
       "        vertical-align: middle;\n",
       "    }\n",
       "\n",
       "    .dataframe tbody tr th {\n",
       "        vertical-align: top;\n",
       "    }\n",
       "\n",
       "    .dataframe thead th {\n",
       "        text-align: right;\n",
       "    }\n",
       "</style>\n",
       "<table border=\"1\" class=\"dataframe\">\n",
       "  <thead>\n",
       "    <tr style=\"text-align: right;\">\n",
       "      <th></th>\n",
       "      <th>id</th>\n",
       "      <th>rank</th>\n",
       "      <th>symbol</th>\n",
       "      <th>name</th>\n",
       "      <th>supply</th>\n",
       "      <th>maxSupply</th>\n",
       "      <th>marketCapUsd</th>\n",
       "      <th>volumeUsd24Hr</th>\n",
       "      <th>priceUsd</th>\n",
       "      <th>changePercent24Hr</th>\n",
       "      <th>vwap24Hr</th>\n",
       "      <th>explorer</th>\n",
       "      <th>extract_date</th>\n",
       "    </tr>\n",
       "  </thead>\n",
       "  <tbody>\n",
       "    <tr>\n",
       "      <th>0</th>\n",
       "      <td>bitcoin</td>\n",
       "      <td>1</td>\n",
       "      <td>BTC</td>\n",
       "      <td>Bitcoin</td>\n",
       "      <td>19812484.0000000000000000</td>\n",
       "      <td>21000000.0000000000000000</td>\n",
       "      <td>2020295263479.2918947762287800</td>\n",
       "      <td>21624782212.0350528212145144</td>\n",
       "      <td>101970.8211993656067950</td>\n",
       "      <td>-3.0296931016556670</td>\n",
       "      <td>103831.6976744818501080</td>\n",
       "      <td>https://blockchain.info/</td>\n",
       "      <td>2025-01-19 23:52:44.156804</td>\n",
       "    </tr>\n",
       "    <tr>\n",
       "      <th>1</th>\n",
       "      <td>ethereum</td>\n",
       "      <td>2</td>\n",
       "      <td>ETH</td>\n",
       "      <td>Ethereum</td>\n",
       "      <td>120501725.2119089500000000</td>\n",
       "      <td>None</td>\n",
       "      <td>392527166346.0541520484023715</td>\n",
       "      <td>20083397171.8580631130072172</td>\n",
       "      <td>3257.4402205094857790</td>\n",
       "      <td>-3.1550717782806308</td>\n",
       "      <td>3288.7018609687066522</td>\n",
       "      <td>https://etherscan.io/</td>\n",
       "      <td>2025-01-19 23:52:44.156804</td>\n",
       "    </tr>\n",
       "    <tr>\n",
       "      <th>2</th>\n",
       "      <td>xrp</td>\n",
       "      <td>3</td>\n",
       "      <td>XRP</td>\n",
       "      <td>XRP</td>\n",
       "      <td>57564441898.0000000000000000</td>\n",
       "      <td>100000000000.0000000000000000</td>\n",
       "      <td>177472950555.5378050320497106</td>\n",
       "      <td>5215551570.2663705863777963</td>\n",
       "      <td>3.0830308555758597</td>\n",
       "      <td>-5.6126007823319695</td>\n",
       "      <td>3.1138006022755506</td>\n",
       "      <td>https://xrpcharts.ripple.com/#/graph/</td>\n",
       "      <td>2025-01-19 23:52:44.156804</td>\n",
       "    </tr>\n",
       "    <tr>\n",
       "      <th>3</th>\n",
       "      <td>tether</td>\n",
       "      <td>4</td>\n",
       "      <td>USDT</td>\n",
       "      <td>Tether</td>\n",
       "      <td>138368309376.0522200000000000</td>\n",
       "      <td>None</td>\n",
       "      <td>138277892160.9029727648955158</td>\n",
       "      <td>78207492934.1483687536043136</td>\n",
       "      <td>0.9993465467955996</td>\n",
       "      <td>-0.0029761703696144</td>\n",
       "      <td>0.9988293772901204</td>\n",
       "      <td>https://www.omniexplorer.info/asset/31</td>\n",
       "      <td>2025-01-19 23:52:44.156804</td>\n",
       "    </tr>\n",
       "    <tr>\n",
       "      <th>4</th>\n",
       "      <td>solana</td>\n",
       "      <td>5</td>\n",
       "      <td>SOL</td>\n",
       "      <td>Solana</td>\n",
       "      <td>486598199.3482777000000000</td>\n",
       "      <td>None</td>\n",
       "      <td>114771112565.5574025973794271</td>\n",
       "      <td>10770368406.8259258336248644</td>\n",
       "      <td>235.8642360766550000</td>\n",
       "      <td>-7.9964286627502536</td>\n",
       "      <td>270.5878179103873619</td>\n",
       "      <td>https://explorer.solana.com/</td>\n",
       "      <td>2025-01-19 23:52:44.156804</td>\n",
       "    </tr>\n",
       "  </tbody>\n",
       "</table>\n",
       "</div>"
      ],
      "text/plain": [
       "         id rank symbol      name                         supply  \\\n",
       "0   bitcoin    1    BTC   Bitcoin      19812484.0000000000000000   \n",
       "1  ethereum    2    ETH  Ethereum     120501725.2119089500000000   \n",
       "2       xrp    3    XRP       XRP   57564441898.0000000000000000   \n",
       "3    tether    4   USDT    Tether  138368309376.0522200000000000   \n",
       "4    solana    5    SOL    Solana     486598199.3482777000000000   \n",
       "\n",
       "                       maxSupply                    marketCapUsd  \\\n",
       "0      21000000.0000000000000000  2020295263479.2918947762287800   \n",
       "1                           None   392527166346.0541520484023715   \n",
       "2  100000000000.0000000000000000   177472950555.5378050320497106   \n",
       "3                           None   138277892160.9029727648955158   \n",
       "4                           None   114771112565.5574025973794271   \n",
       "\n",
       "                  volumeUsd24Hr                 priceUsd    changePercent24Hr  \\\n",
       "0  21624782212.0350528212145144  101970.8211993656067950  -3.0296931016556670   \n",
       "1  20083397171.8580631130072172    3257.4402205094857790  -3.1550717782806308   \n",
       "2   5215551570.2663705863777963       3.0830308555758597  -5.6126007823319695   \n",
       "3  78207492934.1483687536043136       0.9993465467955996  -0.0029761703696144   \n",
       "4  10770368406.8259258336248644     235.8642360766550000  -7.9964286627502536   \n",
       "\n",
       "                  vwap24Hr                                explorer  \\\n",
       "0  103831.6976744818501080                https://blockchain.info/   \n",
       "1    3288.7018609687066522                   https://etherscan.io/   \n",
       "2       3.1138006022755506   https://xrpcharts.ripple.com/#/graph/   \n",
       "3       0.9988293772901204  https://www.omniexplorer.info/asset/31   \n",
       "4     270.5878179103873619            https://explorer.solana.com/   \n",
       "\n",
       "                extract_date  \n",
       "0 2025-01-19 23:52:44.156804  \n",
       "1 2025-01-19 23:52:44.156804  \n",
       "2 2025-01-19 23:52:44.156804  \n",
       "3 2025-01-19 23:52:44.156804  \n",
       "4 2025-01-19 23:52:44.156804  "
      ]
     },
     "metadata": {},
     "output_type": "display_data"
    }
   ],
   "source": [
    "with pd.option_context(\"display.max_columns\", None):\n",
    "    display(bronze_assets.head(5))"
   ]
  },
  {
   "cell_type": "code",
   "execution_count": 52,
   "metadata": {},
   "outputs": [
    {
     "data": {
      "text/html": [
       "<div>\n",
       "<style scoped>\n",
       "    .dataframe tbody tr th:only-of-type {\n",
       "        vertical-align: middle;\n",
       "    }\n",
       "\n",
       "    .dataframe tbody tr th {\n",
       "        vertical-align: top;\n",
       "    }\n",
       "\n",
       "    .dataframe thead th {\n",
       "        text-align: right;\n",
       "    }\n",
       "</style>\n",
       "<table border=\"1\" class=\"dataframe\">\n",
       "  <thead>\n",
       "    <tr style=\"text-align: right;\">\n",
       "      <th></th>\n",
       "      <th>exchangeId</th>\n",
       "      <th>rank</th>\n",
       "      <th>baseSymbol</th>\n",
       "      <th>baseId</th>\n",
       "      <th>quoteSymbol</th>\n",
       "      <th>quoteId</th>\n",
       "      <th>priceQuote</th>\n",
       "      <th>priceUsd</th>\n",
       "      <th>volumeUsd24Hr</th>\n",
       "      <th>percentExchangeVolume</th>\n",
       "      <th>tradesCount24Hr</th>\n",
       "      <th>updated</th>\n",
       "      <th>extract_date</th>\n",
       "    </tr>\n",
       "  </thead>\n",
       "  <tbody>\n",
       "    <tr>\n",
       "      <th>0</th>\n",
       "      <td>bibox</td>\n",
       "      <td>1</td>\n",
       "      <td>ETH</td>\n",
       "      <td>ethereum</td>\n",
       "      <td>USDT</td>\n",
       "      <td>tether</td>\n",
       "      <td>3313.7600000000000000</td>\n",
       "      <td>3310.7113408000000000</td>\n",
       "      <td>31082173.7606347417600000</td>\n",
       "      <td>15.7069144508125571</td>\n",
       "      <td>None</td>\n",
       "      <td>1737248277239</td>\n",
       "      <td>2025-01-18 22:01:41.548605</td>\n",
       "    </tr>\n",
       "    <tr>\n",
       "      <th>1</th>\n",
       "      <td>bibox</td>\n",
       "      <td>2</td>\n",
       "      <td>LINK</td>\n",
       "      <td>chainlink</td>\n",
       "      <td>USDT</td>\n",
       "      <td>tether</td>\n",
       "      <td>23.8740000000000000</td>\n",
       "      <td>23.8520359200000000</td>\n",
       "      <td>13132789.9881676768800000</td>\n",
       "      <td>6.6364601920436892</td>\n",
       "      <td>None</td>\n",
       "      <td>1737248416642</td>\n",
       "      <td>2025-01-18 22:01:41.548605</td>\n",
       "    </tr>\n",
       "    <tr>\n",
       "      <th>2</th>\n",
       "      <td>bibox</td>\n",
       "      <td>3</td>\n",
       "      <td>ATOM</td>\n",
       "      <td>cosmos</td>\n",
       "      <td>USDT</td>\n",
       "      <td>tether</td>\n",
       "      <td>6.6644000000000000</td>\n",
       "      <td>6.6582687520000000</td>\n",
       "      <td>7618772.6248378896000000</td>\n",
       "      <td>3.8500334873643531</td>\n",
       "      <td>None</td>\n",
       "      <td>1737248395462</td>\n",
       "      <td>2025-01-18 22:01:41.548605</td>\n",
       "    </tr>\n",
       "    <tr>\n",
       "      <th>3</th>\n",
       "      <td>bibox</td>\n",
       "      <td>4</td>\n",
       "      <td>XLM</td>\n",
       "      <td>stellar</td>\n",
       "      <td>USDT</td>\n",
       "      <td>tether</td>\n",
       "      <td>0.4903760000000000</td>\n",
       "      <td>0.4899248540800000</td>\n",
       "      <td>6432733.5219139372204800</td>\n",
       "      <td>3.2506862580358031</td>\n",
       "      <td>None</td>\n",
       "      <td>1737247801768</td>\n",
       "      <td>2025-01-18 22:01:41.548605</td>\n",
       "    </tr>\n",
       "    <tr>\n",
       "      <th>4</th>\n",
       "      <td>bibox</td>\n",
       "      <td>5</td>\n",
       "      <td>FIL</td>\n",
       "      <td>filecoin</td>\n",
       "      <td>USDT</td>\n",
       "      <td>tether</td>\n",
       "      <td>5.4800000000000000</td>\n",
       "      <td>5.4749584000000000</td>\n",
       "      <td>5910920.0814273289600000</td>\n",
       "      <td>2.9869955930222906</td>\n",
       "      <td>None</td>\n",
       "      <td>1737245994746</td>\n",
       "      <td>2025-01-18 22:01:41.548605</td>\n",
       "    </tr>\n",
       "  </tbody>\n",
       "</table>\n",
       "</div>"
      ],
      "text/plain": [
       "  exchangeId rank baseSymbol     baseId quoteSymbol quoteId  \\\n",
       "0      bibox    1        ETH   ethereum        USDT  tether   \n",
       "1      bibox    2       LINK  chainlink        USDT  tether   \n",
       "2      bibox    3       ATOM     cosmos        USDT  tether   \n",
       "3      bibox    4        XLM    stellar        USDT  tether   \n",
       "4      bibox    5        FIL   filecoin        USDT  tether   \n",
       "\n",
       "              priceQuote               priceUsd              volumeUsd24Hr  \\\n",
       "0  3313.7600000000000000  3310.7113408000000000  31082173.7606347417600000   \n",
       "1    23.8740000000000000    23.8520359200000000  13132789.9881676768800000   \n",
       "2     6.6644000000000000     6.6582687520000000   7618772.6248378896000000   \n",
       "3     0.4903760000000000     0.4899248540800000   6432733.5219139372204800   \n",
       "4     5.4800000000000000     5.4749584000000000   5910920.0814273289600000   \n",
       "\n",
       "  percentExchangeVolume tradesCount24Hr        updated  \\\n",
       "0   15.7069144508125571            None  1737248277239   \n",
       "1    6.6364601920436892            None  1737248416642   \n",
       "2    3.8500334873643531            None  1737248395462   \n",
       "3    3.2506862580358031            None  1737247801768   \n",
       "4    2.9869955930222906            None  1737245994746   \n",
       "\n",
       "                extract_date  \n",
       "0 2025-01-18 22:01:41.548605  \n",
       "1 2025-01-18 22:01:41.548605  \n",
       "2 2025-01-18 22:01:41.548605  \n",
       "3 2025-01-18 22:01:41.548605  \n",
       "4 2025-01-18 22:01:41.548605  "
      ]
     },
     "metadata": {},
     "output_type": "display_data"
    }
   ],
   "source": [
    "with pd.option_context(\"display.max_columns\", None):\n",
    "    display(bronze_markets.head(5))"
   ]
  },
  {
   "cell_type": "markdown",
   "metadata": {},
   "source": [
    "### Criando a camada bronze no GCP."
   ]
  },
  {
   "cell_type": "markdown",
   "metadata": {},
   "source": [
    "#### Caso precise criar o Dataset de maneira prévia no seu projeto"
   ]
  },
  {
   "cell_type": "code",
   "execution_count": 6,
   "metadata": {},
   "outputs": [],
   "source": [
    "#def create_bigquery_dataset(project_id: str, dataset_name: str, location: str = \"US\"):\n",
    "#    try:\n",
    "#        client = bigquery.Client(project=project_id)\n",
    "#        dataset_id = f\"{project_id}.{dataset_name}\"\n",
    "#        dataset = bigquery.Dataset(dataset_id)\n",
    "#        dataset.location = location\n",
    "#        dataset = client.create_dataset(dataset, exists_ok=True)\n",
    "#        print(f\"Conjunto de dados '{dataset_id}' criado com sucesso na localização '{location}'.\")\n",
    "#    except Exception as e:\n",
    "#        print(f\"Erro ao criar o conjunto de dados: {e}\")"
   ]
  },
  {
   "cell_type": "markdown",
   "metadata": {},
   "source": [
    "#### Criando o conjunto de dados no projeto dentro do GCP"
   ]
  },
  {
   "cell_type": "code",
   "execution_count": null,
   "metadata": {},
   "outputs": [
    {
     "name": "stdout",
     "output_type": "stream",
     "text": [
      "Conjunto de dados 'mystudentproject-292517.Engenharia_Dados_Cadastra' criado com sucesso na localização 'US'.\n"
     ]
    }
   ],
   "source": [
    "#if __name__ == \"__main__\":\n",
    "#    create_bigquery_dataset(\"mystudentproject-292517\", \"Engenharia_Dados_Cadastra\")"
   ]
  },
  {
   "cell_type": "markdown",
   "metadata": {},
   "source": [
    "#### Utilizando pandas_gbq para criar o dataset e tabelas na camada bronze."
   ]
  },
  {
   "cell_type": "code",
   "execution_count": null,
   "metadata": {},
   "outputs": [],
   "source": [
    "#export_to_gbq_with_condition(bronze_assets, 'cadastra_teste_engenharia.bronze_assets', 'mystudentproject-292517')"
   ]
  },
  {
   "cell_type": "code",
   "execution_count": 53,
   "metadata": {},
   "outputs": [
    {
     "name": "stderr",
     "output_type": "stream",
     "text": [
      "100%|██████████| 1/1 [00:00<?, ?it/s]\n"
     ]
    }
   ],
   "source": [
    "pandas_gbq.to_gbq(bronze_assets, 'cadastra_teste_engenharia.bronze_assets', project_id='mystudentproject-292517', if_exists='append')"
   ]
  },
  {
   "cell_type": "code",
   "execution_count": 54,
   "metadata": {},
   "outputs": [
    {
     "name": "stderr",
     "output_type": "stream",
     "text": [
      "100%|██████████| 1/1 [00:00<?, ?it/s]\n"
     ]
    }
   ],
   "source": [
    "pandas_gbq.to_gbq(bronze_markets, 'cadastra_teste_engenharia.bronze_markets', project_id='mystudentproject-292517', if_exists='append')"
   ]
  },
  {
   "cell_type": "markdown",
   "metadata": {},
   "source": [
    "#### Criação da camada Silver, utilizando as tabelas no BigQuery."
   ]
  },
  {
   "cell_type": "code",
   "execution_count": 68,
   "metadata": {},
   "outputs": [],
   "source": [
    "def bronze_layer_extract(query):\n",
    "    try:\n",
    "        client = bigquery.Client()\n",
    "        result = client.query(query).to_dataframe()\n",
    "        return result\n",
    "    except Exception as e: \n",
    "        print(f\"Erro ao executar consulta: {e}\")\n",
    "        return None"
   ]
  },
  {
   "cell_type": "code",
   "execution_count": 110,
   "metadata": {},
   "outputs": [],
   "source": [
    "if __name__ == \"__main__\":\n",
    "    client = bigquery.Client()\n",
    "    query = \"\"\"\n",
    "    SELECT * FROM `mystudentproject-292517.cadastra_teste_engenharia.bronze_assets`;\n",
    "    \"\"\"\n",
    "    silver_assets = bronze_layer_extract(query)"
   ]
  },
  {
   "cell_type": "code",
   "execution_count": 111,
   "metadata": {},
   "outputs": [],
   "source": [
    "if __name__ == \"__main__\":\n",
    "    client = bigquery.Client()\n",
    "    query = \"\"\"\n",
    "    SELECT * FROM `mystudentproject-292517.cadastra_teste_engenharia.bronze_markets`;\n",
    "    \"\"\"\n",
    "    silver_markets = bronze_layer_extract(query)"
   ]
  },
  {
   "cell_type": "markdown",
   "metadata": {},
   "source": [
    "#### Tratamento necessários nesses dataframes."
   ]
  },
  {
   "cell_type": "code",
   "execution_count": 112,
   "metadata": {},
   "outputs": [],
   "source": [
    "def clean_null_values(df, fillna_map):\n",
    "    for column, fill_value in fillna_map.items():\n",
    "        if column in df.columns: \n",
    "            df[column] = df[column].fillna(fill_value)\n",
    "    return df"
   ]
  },
  {
   "cell_type": "code",
   "execution_count": 113,
   "metadata": {},
   "outputs": [],
   "source": [
    "def convert_to_numeric(df, numeric_columns):\n",
    "    df[numeric_columns] = df[numeric_columns].apply(pd.to_numeric, errors='coerce')\n",
    "    return df"
   ]
  },
  {
   "cell_type": "code",
   "execution_count": 114,
   "metadata": {},
   "outputs": [],
   "source": [
    "def process_dataframe(df, fillna_map, numeric_columns):\n",
    "    # Limpar valores nulos\n",
    "    df = clean_null_values(df, fillna_map)\n",
    "    # Converter colunas numéricas\n",
    "    df = convert_to_numeric(df, numeric_columns)\n",
    "    return df"
   ]
  },
  {
   "cell_type": "markdown",
   "metadata": {},
   "source": [
    "#### Encontra valores nulos"
   ]
  },
  {
   "cell_type": "code",
   "execution_count": 119,
   "metadata": {},
   "outputs": [],
   "source": [
    "def find_null_or_empty_columns(df):\n",
    "    null_columns = []\n",
    "    for column in df.columns:\n",
    "        if df[column].isnull().any() or (df[column] == \"\").any():\n",
    "            null_columns.append(column)\n",
    "    return null_columns"
   ]
  },
  {
   "cell_type": "code",
   "execution_count": 120,
   "metadata": {},
   "outputs": [
    {
     "name": "stdout",
     "output_type": "stream",
     "text": [
      "Colunas com valores nulos ou vazios: ['maxSupply', 'changePercent24Hr', 'explorer']\n"
     ]
    }
   ],
   "source": [
    "colunas_nulas = find_null_or_empty_columns(silver_assets)\n",
    "print(\"Colunas com valores nulos ou vazios:\", colunas_nulas)"
   ]
  },
  {
   "cell_type": "code",
   "execution_count": 121,
   "metadata": {},
   "outputs": [
    {
     "name": "stdout",
     "output_type": "stream",
     "text": [
      "Colunas com valores nulos ou vazios: ['tradesCount24Hr']\n"
     ]
    }
   ],
   "source": [
    "colunas_nulas = find_null_or_empty_columns(silver_markets)\n",
    "print(\"Colunas com valores nulos ou vazios:\", colunas_nulas)"
   ]
  },
  {
   "cell_type": "code",
   "execution_count": 122,
   "metadata": {},
   "outputs": [
    {
     "data": {
      "text/plain": [
       "0    None\n",
       "Name: tradesCount24Hr, dtype: object"
      ]
     },
     "execution_count": 122,
     "metadata": {},
     "output_type": "execute_result"
    }
   ],
   "source": [
    "silver_markets['tradesCount24Hr'].drop_duplicates()"
   ]
  },
  {
   "cell_type": "code",
   "execution_count": 123,
   "metadata": {},
   "outputs": [],
   "source": [
    "silver_markets = silver_markets.drop(columns=[\"tradesCount24Hr\"])"
   ]
  },
  {
   "cell_type": "code",
   "execution_count": 97,
   "metadata": {},
   "outputs": [],
   "source": [
    "fillna_map = {\n",
    "    \"maxSupply\":0,\n",
    "    'changePercent24Hr':0,\n",
    "    'explorer': \"link_indisponivel\"\n",
    "}"
   ]
  },
  {
   "cell_type": "code",
   "execution_count": 98,
   "metadata": {},
   "outputs": [],
   "source": [
    "numeric_columns = ['rank', 'supply', 'maxSupply', 'marketCapUsd', 'volumeUsd24Hr', 'priceUsd', 'changePercent24Hr', 'vwap24Hr']"
   ]
  },
  {
   "cell_type": "code",
   "execution_count": 125,
   "metadata": {},
   "outputs": [],
   "source": [
    "silver_assets = process_dataframe(silver_assets, fillna_map, numeric_columns)"
   ]
  },
  {
   "cell_type": "code",
   "execution_count": 129,
   "metadata": {},
   "outputs": [],
   "source": [
    "numeric_columns = [\"priceQuote\",\"priceUsd\",\"volumeUsd24Hr\",\"percentExchangeVolume\"]"
   ]
  },
  {
   "cell_type": "code",
   "execution_count": 131,
   "metadata": {},
   "outputs": [],
   "source": [
    "silver_markets = process_dataframe(silver_markets, fillna_map, numeric_columns)"
   ]
  },
  {
   "cell_type": "code",
   "execution_count": 133,
   "metadata": {},
   "outputs": [],
   "source": [
    "silver_markets[\"updated_date\"] = pd.to_datetime(silver_markets['updated'], unit='ms')"
   ]
  },
  {
   "cell_type": "markdown",
   "metadata": {},
   "source": [
    "### Localizando colunas com valores nulos"
   ]
  },
  {
   "cell_type": "code",
   "execution_count": 126,
   "metadata": {},
   "outputs": [
    {
     "data": {
      "text/html": [
       "<div>\n",
       "<style scoped>\n",
       "    .dataframe tbody tr th:only-of-type {\n",
       "        vertical-align: middle;\n",
       "    }\n",
       "\n",
       "    .dataframe tbody tr th {\n",
       "        vertical-align: top;\n",
       "    }\n",
       "\n",
       "    .dataframe thead th {\n",
       "        text-align: right;\n",
       "    }\n",
       "</style>\n",
       "<table border=\"1\" class=\"dataframe\">\n",
       "  <thead>\n",
       "    <tr style=\"text-align: right;\">\n",
       "      <th></th>\n",
       "      <th>id</th>\n",
       "      <th>rank</th>\n",
       "      <th>symbol</th>\n",
       "      <th>name</th>\n",
       "      <th>supply</th>\n",
       "      <th>maxSupply</th>\n",
       "      <th>marketCapUsd</th>\n",
       "      <th>volumeUsd24Hr</th>\n",
       "      <th>priceUsd</th>\n",
       "      <th>changePercent24Hr</th>\n",
       "      <th>vwap24Hr</th>\n",
       "      <th>explorer</th>\n",
       "      <th>extract_date</th>\n",
       "    </tr>\n",
       "  </thead>\n",
       "  <tbody>\n",
       "    <tr>\n",
       "      <th>95</th>\n",
       "      <td>vechain</td>\n",
       "      <td>29</td>\n",
       "      <td>VET</td>\n",
       "      <td>VeChain</td>\n",
       "      <td>8.098504e+10</td>\n",
       "      <td>8.671263e+10</td>\n",
       "      <td>4.239211e+09</td>\n",
       "      <td>5.952220e+07</td>\n",
       "      <td>0.052346</td>\n",
       "      <td>-5.888639</td>\n",
       "      <td>0.052372</td>\n",
       "      <td>https://explore.veforge.com/</td>\n",
       "      <td>2025-01-18 22:01:39.441831</td>\n",
       "    </tr>\n",
       "    <tr>\n",
       "      <th>96</th>\n",
       "      <td>xrp</td>\n",
       "      <td>3</td>\n",
       "      <td>XRP</td>\n",
       "      <td>XRP</td>\n",
       "      <td>5.756444e+10</td>\n",
       "      <td>1.000000e+11</td>\n",
       "      <td>1.880043e+11</td>\n",
       "      <td>3.558535e+09</td>\n",
       "      <td>3.265980</td>\n",
       "      <td>0.339867</td>\n",
       "      <td>3.182373</td>\n",
       "      <td>https://xrpcharts.ripple.com/#/graph/</td>\n",
       "      <td>2025-01-18 22:01:39.441831</td>\n",
       "    </tr>\n",
       "    <tr>\n",
       "      <th>97</th>\n",
       "      <td>reserve-rights</td>\n",
       "      <td>72</td>\n",
       "      <td>RSR</td>\n",
       "      <td>Reserve Rights</td>\n",
       "      <td>5.383409e+10</td>\n",
       "      <td>1.000000e+11</td>\n",
       "      <td>8.088785e+08</td>\n",
       "      <td>5.553037e+07</td>\n",
       "      <td>0.015025</td>\n",
       "      <td>-7.336334</td>\n",
       "      <td>0.014817</td>\n",
       "      <td>https://etherscan.io/token/0x8762db106b2c2a0bc...</td>\n",
       "      <td>2025-01-18 22:01:39.441831</td>\n",
       "    </tr>\n",
       "    <tr>\n",
       "      <th>98</th>\n",
       "      <td>telcoin</td>\n",
       "      <td>84</td>\n",
       "      <td>TEL</td>\n",
       "      <td>Telcoin</td>\n",
       "      <td>9.187008e+10</td>\n",
       "      <td>1.000000e+11</td>\n",
       "      <td>5.904458e+08</td>\n",
       "      <td>1.922761e+06</td>\n",
       "      <td>0.006427</td>\n",
       "      <td>-0.711426</td>\n",
       "      <td>0.006230</td>\n",
       "      <td>https://etherscan.io/token/0x85e076361cc813a90...</td>\n",
       "      <td>2025-01-18 22:01:39.441831</td>\n",
       "    </tr>\n",
       "    <tr>\n",
       "      <th>99</th>\n",
       "      <td>ecash</td>\n",
       "      <td>77</td>\n",
       "      <td>XEC</td>\n",
       "      <td>eCash</td>\n",
       "      <td>1.981336e+13</td>\n",
       "      <td>2.100000e+13</td>\n",
       "      <td>7.179583e+08</td>\n",
       "      <td>6.183923e+06</td>\n",
       "      <td>0.000036</td>\n",
       "      <td>-6.836051</td>\n",
       "      <td>0.000037</td>\n",
       "      <td>https://explorer.bitcoinabc.org/</td>\n",
       "      <td>2025-01-18 22:01:39.441831</td>\n",
       "    </tr>\n",
       "  </tbody>\n",
       "</table>\n",
       "</div>"
      ],
      "text/plain": [
       "                id  rank symbol            name        supply     maxSupply  \\\n",
       "95         vechain    29    VET         VeChain  8.098504e+10  8.671263e+10   \n",
       "96             xrp     3    XRP             XRP  5.756444e+10  1.000000e+11   \n",
       "97  reserve-rights    72    RSR  Reserve Rights  5.383409e+10  1.000000e+11   \n",
       "98         telcoin    84    TEL         Telcoin  9.187008e+10  1.000000e+11   \n",
       "99           ecash    77    XEC           eCash  1.981336e+13  2.100000e+13   \n",
       "\n",
       "    marketCapUsd  volumeUsd24Hr  priceUsd  changePercent24Hr  vwap24Hr  \\\n",
       "95  4.239211e+09   5.952220e+07  0.052346          -5.888639  0.052372   \n",
       "96  1.880043e+11   3.558535e+09  3.265980           0.339867  3.182373   \n",
       "97  8.088785e+08   5.553037e+07  0.015025          -7.336334  0.014817   \n",
       "98  5.904458e+08   1.922761e+06  0.006427          -0.711426  0.006230   \n",
       "99  7.179583e+08   6.183923e+06  0.000036          -6.836051  0.000037   \n",
       "\n",
       "                                             explorer  \\\n",
       "95                       https://explore.veforge.com/   \n",
       "96              https://xrpcharts.ripple.com/#/graph/   \n",
       "97  https://etherscan.io/token/0x8762db106b2c2a0bc...   \n",
       "98  https://etherscan.io/token/0x85e076361cc813a90...   \n",
       "99                   https://explorer.bitcoinabc.org/   \n",
       "\n",
       "                 extract_date  \n",
       "95 2025-01-18 22:01:39.441831  \n",
       "96 2025-01-18 22:01:39.441831  \n",
       "97 2025-01-18 22:01:39.441831  \n",
       "98 2025-01-18 22:01:39.441831  \n",
       "99 2025-01-18 22:01:39.441831  "
      ]
     },
     "metadata": {},
     "output_type": "display_data"
    }
   ],
   "source": [
    "with pd.option_context(\"display.max_columns\", None):\n",
    "    display(silver_assets.tail())"
   ]
  },
  {
   "cell_type": "code",
   "execution_count": 135,
   "metadata": {},
   "outputs": [
    {
     "data": {
      "text/html": [
       "<div>\n",
       "<style scoped>\n",
       "    .dataframe tbody tr th:only-of-type {\n",
       "        vertical-align: middle;\n",
       "    }\n",
       "\n",
       "    .dataframe tbody tr th {\n",
       "        vertical-align: top;\n",
       "    }\n",
       "\n",
       "    .dataframe thead th {\n",
       "        text-align: right;\n",
       "    }\n",
       "</style>\n",
       "<table border=\"1\" class=\"dataframe\">\n",
       "  <thead>\n",
       "    <tr style=\"text-align: right;\">\n",
       "      <th></th>\n",
       "      <th>exchangeId</th>\n",
       "      <th>rank</th>\n",
       "      <th>baseSymbol</th>\n",
       "      <th>baseId</th>\n",
       "      <th>quoteSymbol</th>\n",
       "      <th>quoteId</th>\n",
       "      <th>priceQuote</th>\n",
       "      <th>priceUsd</th>\n",
       "      <th>volumeUsd24Hr</th>\n",
       "      <th>percentExchangeVolume</th>\n",
       "      <th>updated</th>\n",
       "      <th>extract_date</th>\n",
       "      <th>updated_date</th>\n",
       "    </tr>\n",
       "  </thead>\n",
       "  <tbody>\n",
       "    <tr>\n",
       "      <th>0</th>\n",
       "      <td>bibox</td>\n",
       "      <td>27</td>\n",
       "      <td>LTC</td>\n",
       "      <td>litecoin</td>\n",
       "      <td>ETH</td>\n",
       "      <td>ethereum</td>\n",
       "      <td>0.038108</td>\n",
       "      <td>126.151712</td>\n",
       "      <td>1.898533e+06</td>\n",
       "      <td>0.959396</td>\n",
       "      <td>1737248307122</td>\n",
       "      <td>2025-01-18 22:01:41.548605</td>\n",
       "      <td>2025-01-19 00:58:27.122</td>\n",
       "    </tr>\n",
       "    <tr>\n",
       "      <th>1</th>\n",
       "      <td>bibox</td>\n",
       "      <td>33</td>\n",
       "      <td>UMA</td>\n",
       "      <td>uma</td>\n",
       "      <td>ETH</td>\n",
       "      <td>ethereum</td>\n",
       "      <td>0.000810</td>\n",
       "      <td>2.681764</td>\n",
       "      <td>1.601311e+06</td>\n",
       "      <td>0.809199</td>\n",
       "      <td>1737242843422</td>\n",
       "      <td>2025-01-18 22:01:41.548605</td>\n",
       "      <td>2025-01-18 23:27:23.422</td>\n",
       "    </tr>\n",
       "    <tr>\n",
       "      <th>2</th>\n",
       "      <td>bibox</td>\n",
       "      <td>37</td>\n",
       "      <td>BSV</td>\n",
       "      <td>bitcoin-sv</td>\n",
       "      <td>ETH</td>\n",
       "      <td>ethereum</td>\n",
       "      <td>0.016829</td>\n",
       "      <td>55.710217</td>\n",
       "      <td>1.526764e+06</td>\n",
       "      <td>0.771527</td>\n",
       "      <td>1737248447769</td>\n",
       "      <td>2025-01-18 22:01:41.548605</td>\n",
       "      <td>2025-01-19 01:00:47.769</td>\n",
       "    </tr>\n",
       "    <tr>\n",
       "      <th>3</th>\n",
       "      <td>bibox</td>\n",
       "      <td>44</td>\n",
       "      <td>LINK</td>\n",
       "      <td>chainlink</td>\n",
       "      <td>ETH</td>\n",
       "      <td>ethereum</td>\n",
       "      <td>0.007206</td>\n",
       "      <td>23.852970</td>\n",
       "      <td>1.171840e+06</td>\n",
       "      <td>0.592172</td>\n",
       "      <td>1737248415392</td>\n",
       "      <td>2025-01-18 22:01:41.548605</td>\n",
       "      <td>2025-01-19 01:00:15.392</td>\n",
       "    </tr>\n",
       "    <tr>\n",
       "      <th>4</th>\n",
       "      <td>bibox</td>\n",
       "      <td>45</td>\n",
       "      <td>ETC</td>\n",
       "      <td>ethereum-classic</td>\n",
       "      <td>ETH</td>\n",
       "      <td>ethereum</td>\n",
       "      <td>0.008158</td>\n",
       "      <td>27.006925</td>\n",
       "      <td>1.073288e+06</td>\n",
       "      <td>0.542370</td>\n",
       "      <td>1737248288442</td>\n",
       "      <td>2025-01-18 22:01:41.548605</td>\n",
       "      <td>2025-01-19 00:58:08.442</td>\n",
       "    </tr>\n",
       "  </tbody>\n",
       "</table>\n",
       "</div>"
      ],
      "text/plain": [
       "  exchangeId rank baseSymbol            baseId quoteSymbol   quoteId  \\\n",
       "0      bibox   27        LTC          litecoin         ETH  ethereum   \n",
       "1      bibox   33        UMA               uma         ETH  ethereum   \n",
       "2      bibox   37        BSV        bitcoin-sv         ETH  ethereum   \n",
       "3      bibox   44       LINK         chainlink         ETH  ethereum   \n",
       "4      bibox   45        ETC  ethereum-classic         ETH  ethereum   \n",
       "\n",
       "   priceQuote    priceUsd  volumeUsd24Hr  percentExchangeVolume  \\\n",
       "0    0.038108  126.151712   1.898533e+06               0.959396   \n",
       "1    0.000810    2.681764   1.601311e+06               0.809199   \n",
       "2    0.016829   55.710217   1.526764e+06               0.771527   \n",
       "3    0.007206   23.852970   1.171840e+06               0.592172   \n",
       "4    0.008158   27.006925   1.073288e+06               0.542370   \n",
       "\n",
       "         updated               extract_date            updated_date  \n",
       "0  1737248307122 2025-01-18 22:01:41.548605 2025-01-19 00:58:27.122  \n",
       "1  1737242843422 2025-01-18 22:01:41.548605 2025-01-18 23:27:23.422  \n",
       "2  1737248447769 2025-01-18 22:01:41.548605 2025-01-19 01:00:47.769  \n",
       "3  1737248415392 2025-01-18 22:01:41.548605 2025-01-19 01:00:15.392  \n",
       "4  1737248288442 2025-01-18 22:01:41.548605 2025-01-19 00:58:08.442  "
      ]
     },
     "metadata": {},
     "output_type": "display_data"
    }
   ],
   "source": [
    "with pd.option_context(\"display.max_columns\", None):\n",
    "    display(silver_markets.head())"
   ]
  },
  {
   "cell_type": "markdown",
   "metadata": {},
   "source": [
    "### Criando as tabelas na camada Silver para receber os dados."
   ]
  },
  {
   "cell_type": "code",
   "execution_count": 136,
   "metadata": {},
   "outputs": [],
   "source": [
    "def create_bigquery_table(dataset_id: str, table_name: str, schema: list):\n",
    "    try:\n",
    "        client = bigquery.Client()\n",
    "        table_id = f\"{dataset_id}.{table_name}\"\n",
    "        table_schema = [bigquery.SchemaField(col[\"name\"], col[\"type\"], col.get(\"mode\", \"NULLABLE\")) for col in schema]\n",
    "        table = bigquery.Table(table_id, schema=table_schema)\n",
    "        table = client.create_table(table)\n",
    "        print(f\"Tabela '{table_id}' criada com sucesso.\")\n",
    "    except Exception as e:\n",
    "        print(f\"Erro ao criar a tabela: {e}\")"
   ]
  },
  {
   "cell_type": "code",
   "execution_count": 142,
   "metadata": {},
   "outputs": [
    {
     "name": "stdout",
     "output_type": "stream",
     "text": [
      "Tabela 'mystudentproject-292517.cadastra_teste_engenharia.silver_assets' criada com sucesso.\n"
     ]
    }
   ],
   "source": [
    "if __name__ == \"__main__\":\n",
    "    schema = [\n",
    "        {\"name\": \"id\", \"type\": \"STRING\"},\n",
    "        {\"name\": \"rank\", \"type\": \"STRING\"},\n",
    "        {\"name\": \"symbol\", \"type\": \"STRING\"},\n",
    "        {\"name\": \"name\", \"type\": \"STRING\"},\n",
    "        {\"name\": \"supply\", \"type\": \"FLOAT\"},\n",
    "        {\"name\": \"maxSupply\", \"type\": \"FLOAT\"},\n",
    "        {\"name\": \"marketCapUsd\", \"type\": \"FLOAT\"},\n",
    "        {\"name\": \"volumeUsd24Hr\", \"type\": \"FLOAT\"},\n",
    "        {\"name\": \"priceUsd\", \"type\": \"FLOAT\"},\n",
    "        {\"name\": \"changePercent24Hr\", \"type\": \"FLOAT\"},\n",
    "        {\"name\": \"vwap24Hr\", \"type\": \"FLOAT\"},\n",
    "        {\"name\": \"explorer\", \"type\": \"STRING\"},\n",
    "        {\"name\": \"extract_date\", \"type\": \"DATE\"}\n",
    "    ]\n",
    "    create_bigquery_table(\"mystudentproject-292517.cadastra_teste_engenharia\", \"silver_assets\", schema)"
   ]
  },
  {
   "cell_type": "code",
   "execution_count": 143,
   "metadata": {},
   "outputs": [
    {
     "name": "stderr",
     "output_type": "stream",
     "text": [
      "100%|██████████| 1/1 [00:00<?, ?it/s]\n"
     ]
    }
   ],
   "source": [
    "pandas_gbq.to_gbq(silver_assets, 'cadastra_teste_engenharia.silver_assets', project_id='mystudentproject-292517', if_exists='replace')"
   ]
  },
  {
   "cell_type": "markdown",
   "metadata": {},
   "source": [
    "-------------------"
   ]
  },
  {
   "cell_type": "code",
   "execution_count": 146,
   "metadata": {},
   "outputs": [
    {
     "name": "stdout",
     "output_type": "stream",
     "text": [
      "Tabela 'mystudentproject-292517.cadastra_teste_engenharia.silver_markets' criada com sucesso.\n"
     ]
    }
   ],
   "source": [
    "if __name__ == \"__main__\":\n",
    "    schema = [\n",
    "        {\"name\": \"id\", \"type\": \"STRING\"},\n",
    "        {\"name\": \"rank\", \"type\": \"STRING\"},\n",
    "        {\"name\": \"symbol\", \"type\": \"STRING\"},\n",
    "        {\"name\": \"name\", \"type\": \"STRING\"},\n",
    "        {\"name\": \"supply\", \"type\": \"FLOAT\"},\n",
    "        {\"name\": \"maxSupply\", \"type\": \"FLOAT\"},\n",
    "        {\"name\": \"marketCapUsd\", \"type\": \"FLOAT\"},\n",
    "        {\"name\": \"volumeUsd24Hr\", \"type\": \"FLOAT\"},\n",
    "        {\"name\": \"priceUsd\", \"type\": \"FLOAT\"},\n",
    "        {\"name\": \"changePercent24Hr\", \"type\": \"FLOAT\"},\n",
    "        {\"name\": \"vwap24Hr\", \"type\": \"FLOAT\"},\n",
    "        {\"name\": \"explorer\", \"type\": \"STRING\"},\n",
    "        {\"name\": \"extract_date\", \"type\": \"DATE\"},\n",
    "        {\"name\": \"updated_date\", \"type\": \"DATE\"}\n",
    "    ]\n",
    "    create_bigquery_table(\"mystudentproject-292517.cadastra_teste_engenharia\", \"silver_markets\", schema)"
   ]
  },
  {
   "cell_type": "code",
   "execution_count": 147,
   "metadata": {},
   "outputs": [
    {
     "name": "stderr",
     "output_type": "stream",
     "text": [
      "100%|██████████| 1/1 [00:00<?, ?it/s]\n"
     ]
    }
   ],
   "source": [
    "pandas_gbq.to_gbq(silver_markets, 'cadastra_teste_engenharia.silver_markets', project_id='mystudentproject-292517', if_exists='replace')"
   ]
  }
 ],
 "metadata": {
  "kernelspec": {
   "display_name": "base",
   "language": "python",
   "name": "python3"
  },
  "language_info": {
   "codemirror_mode": {
    "name": "ipython",
    "version": 3
   },
   "file_extension": ".py",
   "mimetype": "text/x-python",
   "name": "python",
   "nbconvert_exporter": "python",
   "pygments_lexer": "ipython3",
   "version": "3.12.4"
  }
 },
 "nbformat": 4,
 "nbformat_minor": 2
}
